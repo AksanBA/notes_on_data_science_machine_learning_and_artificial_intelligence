{
 "cells": [
  {
   "cell_type": "code",
   "execution_count": null,
   "metadata": {
    "collapsed": true
   },
   "outputs": [],
   "source": [
    "Title: Group Pandas Data By Hour Of The Day  \n",
    "Slug: group_pandas_data_by_hour_of_the_day  \n",
    "Summary: Group data by hour of the day using pandas.  \n",
    "Date: 2016-12-21 12:00  \n",
    "Category: Python  \n",
    "Tags: Data Wrangling  \n",
    "Authors: Chris Albon  "
   ]
  },
  {
   "cell_type": "markdown",
   "metadata": {},
   "source": [
    "## Preliminaries"
   ]
  },
  {
   "cell_type": "code",
   "execution_count": 58,
   "metadata": {
    "collapsed": false
   },
   "outputs": [],
   "source": [
    "# Import libraries\n",
    "import pandas as pd\n",
    "import numpy as np"
   ]
  },
  {
   "cell_type": "markdown",
   "metadata": {},
   "source": [
    "## Create Data"
   ]
  },
  {
   "cell_type": "code",
   "execution_count": null,
   "metadata": {
    "collapsed": true
   },
   "outputs": [],
   "source": [
    "# Create a time series of 2000 elements, one very five minutes starting on 1/1/2000\n",
    "time = pd.date_range('1/1/2000', periods=2000, freq='5min')\n",
    "\n",
    "# Create a pandas series with a random values between 0 and 100, using 'time' as the index\n",
    "series = pd.Series(np.random.randint(100, size=2000), index=time)"
   ]
  },
  {
   "cell_type": "markdown",
   "metadata": {},
   "source": [
    "## View Data"
   ]
  },
  {
   "cell_type": "code",
   "execution_count": 59,
   "metadata": {
    "collapsed": false
   },
   "outputs": [
    {
     "data": {
      "text/plain": [
       "2000-01-01 00:00:00     0\n",
       "2000-01-01 00:05:00    54\n",
       "2000-01-01 00:10:00    14\n",
       "2000-01-01 00:15:00    43\n",
       "2000-01-01 00:20:00    38\n",
       "2000-01-01 00:25:00    97\n",
       "2000-01-01 00:30:00    54\n",
       "2000-01-01 00:35:00    14\n",
       "2000-01-01 00:40:00    90\n",
       "2000-01-01 00:45:00     0\n",
       "Freq: 5T, dtype: int64"
      ]
     },
     "execution_count": 59,
     "metadata": {},
     "output_type": "execute_result"
    }
   ],
   "source": [
    "# View the first few rows of the data\n",
    "series[0:10]"
   ]
  },
  {
   "cell_type": "markdown",
   "metadata": {},
   "source": [
    "## Group Data By Time Of The Day"
   ]
  },
  {
   "cell_type": "code",
   "execution_count": 57,
   "metadata": {
    "collapsed": false
   },
   "outputs": [
    {
     "data": {
      "text/plain": [
       "0     52.714286\n",
       "1     46.392857\n",
       "2     51.107143\n",
       "3     45.988095\n",
       "4     45.773810\n",
       "5     45.428571\n",
       "6     49.285714\n",
       "7     54.178571\n",
       "8     49.285714\n",
       "9     50.000000\n",
       "10    46.476190\n",
       "11    49.202381\n",
       "12    50.500000\n",
       "13    45.011905\n",
       "14    51.452381\n",
       "15    49.023810\n",
       "16    49.321429\n",
       "17    46.273810\n",
       "18    51.833333\n",
       "19    55.166667\n",
       "20    51.452381\n",
       "21    44.833333\n",
       "22    49.350000\n",
       "23    48.930556\n",
       "dtype: float64"
      ]
     },
     "execution_count": 57,
     "metadata": {},
     "output_type": "execute_result"
    }
   ],
   "source": [
    "# Group the data by the index's hour value, then aggregate by the average\n",
    "series.groupby(series.index.hour).mean()"
   ]
  }
 ],
 "metadata": {
  "anaconda-cloud": {},
  "kernelspec": {
   "display_name": "Python [default]",
   "language": "python",
   "name": "python3"
  },
  "language_info": {
   "codemirror_mode": {
    "name": "ipython",
    "version": 3
   },
   "file_extension": ".py",
   "mimetype": "text/x-python",
   "name": "python",
   "nbconvert_exporter": "python",
   "pygments_lexer": "ipython3",
   "version": "3.5.2"
  }
 },
 "nbformat": 4,
 "nbformat_minor": 1
}
