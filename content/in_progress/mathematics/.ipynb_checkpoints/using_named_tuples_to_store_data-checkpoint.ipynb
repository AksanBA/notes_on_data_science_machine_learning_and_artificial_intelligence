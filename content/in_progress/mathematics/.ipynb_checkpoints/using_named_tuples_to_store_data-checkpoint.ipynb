{
 "cells": [
  {
   "cell_type": "markdown",
   "metadata": {},
   "source": [
    "Title: TITLE  \n",
    "Slug: SLUG  \n",
    "Summary: BLAH in Python.    \n",
    "Date: 2016-01-23 12:00  \n",
    "Category: Python  \n",
    "Tags: Basics    \n",
    "Authors: Chris Albon  \n",
    "\n",
    "Interesting in learning more? Check out [Fluent Python](http://amzn.to/2jYU506)"
   ]
  },
  {
   "cell_type": "code",
   "execution_count": null,
   "metadata": {
    "collapsed": true
   },
   "outputs": [],
   "source": []
  }
 ],
 "metadata": {
  "anaconda-cloud": {},
  "kernelspec": {
   "display_name": "Python [default]",
   "language": "python",
   "name": "python3"
  },
  "language_info": {
   "codemirror_mode": {
    "name": "ipython",
    "version": 3
   },
   "file_extension": ".py",
   "mimetype": "text/x-python",
   "name": "python",
   "nbconvert_exporter": "python",
   "pygments_lexer": "ipython3",
   "version": "3.5.2"
  }
 },
 "nbformat": 4,
 "nbformat_minor": 1
}
