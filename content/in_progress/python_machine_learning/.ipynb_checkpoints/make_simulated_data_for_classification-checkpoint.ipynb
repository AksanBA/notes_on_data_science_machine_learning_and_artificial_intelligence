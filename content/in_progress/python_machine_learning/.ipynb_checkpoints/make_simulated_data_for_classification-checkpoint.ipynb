{
 "cells": [
  {
   "cell_type": "markdown",
   "metadata": {},
   "source": [
    "Title: Make Simulated Data For Classification  \n",
    "Slug: make_simulated_data_for_classification  \n",
    "Summary: Make a simulated dataset for classification using scikit-learn.  \n",
    "Date: 2017-01-16 12:00  \n",
    "Category: Machine Learning  \n",
    "Tags: Basics  \n",
    "Authors: Chris Albon   "
   ]
  },
  {
   "cell_type": "markdown",
   "metadata": {},
   "source": [
    "## Preliminaries"
   ]
  },
  {
   "cell_type": "code",
   "execution_count": null,
   "metadata": {
    "collapsed": true
   },
   "outputs": [],
   "source": [
    "from sklearn.datasets import make_classification\n",
    "import pandas as pd"
   ]
  },
  {
   "cell_type": "markdown",
   "metadata": {},
   "source": [
    "## Create Simulated Data"
   ]
  },
  {
   "cell_type": "code",
   "execution_count": 17,
   "metadata": {
    "collapsed": false
   },
   "outputs": [],
   "source": [
    "# Create a simulated feature matrix and output vector with 100 samples,\n",
    "features, output = make_classification(n_samples = 100,\n",
    "                                       # ten features\n",
    "                                       n_features = 10,\n",
    "                                       # five features that actually predict the output's classes\n",
    "                                       n_informative = 5,\n",
    "                                       # five features that are random and unrelated to the output's classes\n",
    "                                       n_redundant = 5,\n",
    "                                       # three output classes\n",
    "                                       n_classes = 3,\n",
    "                                       # with 20% of observations in the first class, 30% in the second class,\n",
    "                                       # and 50% in the third class. ('None' makes balanced classes)\n",
    "                                       weights = [.2, .3, .8])"
   ]
  },
  {
   "cell_type": "markdown",
   "metadata": {},
   "source": [
    "## View Data"
   ]
  },
  {
   "cell_type": "code",
   "execution_count": 21,
   "metadata": {
    "collapsed": false
   },
   "outputs": [
    {
     "data": {
      "text/html": [
       "<div>\n",
       "<table border=\"1\" class=\"dataframe\">\n",
       "  <thead>\n",
       "    <tr style=\"text-align: right;\">\n",
       "      <th></th>\n",
       "      <th>0</th>\n",
       "      <th>1</th>\n",
       "      <th>2</th>\n",
       "      <th>3</th>\n",
       "      <th>4</th>\n",
       "      <th>5</th>\n",
       "      <th>6</th>\n",
       "      <th>7</th>\n",
       "      <th>8</th>\n",
       "      <th>9</th>\n",
       "    </tr>\n",
       "  </thead>\n",
       "  <tbody>\n",
       "    <tr>\n",
       "      <th>0</th>\n",
       "      <td>-0.228486</td>\n",
       "      <td>-1.509353</td>\n",
       "      <td>-1.656488</td>\n",
       "      <td>-1.064995</td>\n",
       "      <td>-1.232103</td>\n",
       "      <td>0.828763</td>\n",
       "      <td>-0.499834</td>\n",
       "      <td>1.249653</td>\n",
       "      <td>-1.048067</td>\n",
       "      <td>2.272277</td>\n",
       "    </tr>\n",
       "    <tr>\n",
       "      <th>1</th>\n",
       "      <td>1.532976</td>\n",
       "      <td>-1.774178</td>\n",
       "      <td>-0.625922</td>\n",
       "      <td>-0.956292</td>\n",
       "      <td>0.599955</td>\n",
       "      <td>0.350339</td>\n",
       "      <td>0.131097</td>\n",
       "      <td>-1.009671</td>\n",
       "      <td>0.430730</td>\n",
       "      <td>2.525882</td>\n",
       "    </tr>\n",
       "    <tr>\n",
       "      <th>2</th>\n",
       "      <td>0.079694</td>\n",
       "      <td>-0.675615</td>\n",
       "      <td>-1.779146</td>\n",
       "      <td>0.343806</td>\n",
       "      <td>-0.514813</td>\n",
       "      <td>1.222098</td>\n",
       "      <td>-0.117652</td>\n",
       "      <td>1.004044</td>\n",
       "      <td>-0.882654</td>\n",
       "      <td>1.409063</td>\n",
       "    </tr>\n",
       "    <tr>\n",
       "      <th>3</th>\n",
       "      <td>-0.155947</td>\n",
       "      <td>-0.757449</td>\n",
       "      <td>0.023777</td>\n",
       "      <td>-0.178294</td>\n",
       "      <td>-0.447631</td>\n",
       "      <td>-1.151864</td>\n",
       "      <td>1.052650</td>\n",
       "      <td>0.451800</td>\n",
       "      <td>1.079999</td>\n",
       "      <td>-0.515131</td>\n",
       "    </tr>\n",
       "    <tr>\n",
       "      <th>4</th>\n",
       "      <td>-3.864945</td>\n",
       "      <td>3.869067</td>\n",
       "      <td>0.198822</td>\n",
       "      <td>1.835691</td>\n",
       "      <td>-0.402517</td>\n",
       "      <td>0.545119</td>\n",
       "      <td>-1.658275</td>\n",
       "      <td>2.664470</td>\n",
       "      <td>-2.158062</td>\n",
       "      <td>-2.994782</td>\n",
       "    </tr>\n",
       "  </tbody>\n",
       "</table>\n",
       "</div>"
      ],
      "text/plain": [
       "          0         1         2         3         4         5         6  \\\n",
       "0 -0.228486 -1.509353 -1.656488 -1.064995 -1.232103  0.828763 -0.499834   \n",
       "1  1.532976 -1.774178 -0.625922 -0.956292  0.599955  0.350339  0.131097   \n",
       "2  0.079694 -0.675615 -1.779146  0.343806 -0.514813  1.222098 -0.117652   \n",
       "3 -0.155947 -0.757449  0.023777 -0.178294 -0.447631 -1.151864  1.052650   \n",
       "4 -3.864945  3.869067  0.198822  1.835691 -0.402517  0.545119 -1.658275   \n",
       "\n",
       "          7         8         9  \n",
       "0  1.249653 -1.048067  2.272277  \n",
       "1 -1.009671  0.430730  2.525882  \n",
       "2  1.004044 -0.882654  1.409063  \n",
       "3  0.451800  1.079999 -0.515131  \n",
       "4  2.664470 -2.158062 -2.994782  "
      ]
     },
     "execution_count": 21,
     "metadata": {},
     "output_type": "execute_result"
    }
   ],
   "source": [
    "# View the first five observations and their 10 features\n",
    "pd.DataFrame(features).head()"
   ]
  },
  {
   "cell_type": "code",
   "execution_count": 22,
   "metadata": {
    "collapsed": false
   },
   "outputs": [
    {
     "data": {
      "text/html": [
       "<div>\n",
       "<table border=\"1\" class=\"dataframe\">\n",
       "  <thead>\n",
       "    <tr style=\"text-align: right;\">\n",
       "      <th></th>\n",
       "      <th>0</th>\n",
       "    </tr>\n",
       "  </thead>\n",
       "  <tbody>\n",
       "    <tr>\n",
       "      <th>0</th>\n",
       "      <td>2</td>\n",
       "    </tr>\n",
       "    <tr>\n",
       "      <th>1</th>\n",
       "      <td>1</td>\n",
       "    </tr>\n",
       "    <tr>\n",
       "      <th>2</th>\n",
       "      <td>2</td>\n",
       "    </tr>\n",
       "    <tr>\n",
       "      <th>3</th>\n",
       "      <td>1</td>\n",
       "    </tr>\n",
       "    <tr>\n",
       "      <th>4</th>\n",
       "      <td>0</td>\n",
       "    </tr>\n",
       "  </tbody>\n",
       "</table>\n",
       "</div>"
      ],
      "text/plain": [
       "   0\n",
       "0  2\n",
       "1  1\n",
       "2  2\n",
       "3  1\n",
       "4  0"
      ]
     },
     "execution_count": 22,
     "metadata": {},
     "output_type": "execute_result"
    }
   ],
   "source": [
    "# View the first five observation's classes\n",
    "pd.DataFrame(output).head()"
   ]
  }
 ],
 "metadata": {
  "anaconda-cloud": {},
  "kernelspec": {
   "display_name": "Python [default]",
   "language": "python",
   "name": "python3"
  },
  "language_info": {
   "codemirror_mode": {
    "name": "ipython",
    "version": 3
   },
   "file_extension": ".py",
   "mimetype": "text/x-python",
   "name": "python",
   "nbconvert_exporter": "python",
   "pygments_lexer": "ipython3",
   "version": "3.5.2"
  }
 },
 "nbformat": 4,
 "nbformat_minor": 1
}
