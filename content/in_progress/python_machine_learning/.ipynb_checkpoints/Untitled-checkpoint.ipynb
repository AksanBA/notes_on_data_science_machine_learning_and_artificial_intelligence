{
 "cells": [
  {
   "cell_type": "code",
   "execution_count": 1,
   "metadata": {
    "collapsed": false
   },
   "outputs": [
    {
     "name": "stdout",
     "output_type": "stream",
     "text": [
      "Real classes: [2 1 2 1 2 2 1 0 2 2 0 1 0 1 2 1 0 2 2 2 2 0 2 1 0 0 1 2 2 2 2 1 2 0 2 2 2\n",
      " 0 1 1 0 1 2 0 2 0 1 2 1 0 1 1 1 2 0 0 0 1 1 2]\n",
      "Predicted classes: [2 1 2 1 2 2 1 0 2 1 0 1 0 1 2 1 0 2 2 2 2 0 2 1 0 0 1 2 2 2 2 1 2 0 2 2 2\n",
      " 0 1 1 0 1 2 0 1 0 1 2 1 0 1 1 1 2 0 0 0 1 1 1]\n",
      "Percent Correct: 95.0\n"
     ]
    }
   ],
   "source": [
    "# Load some tools we will need\n",
    "from sklearn.svm import SVC\n",
    "from sklearn.model_selection import train_test_split\n",
    "from sklearn import datasets\n",
    "\n",
    "# Our data is about individual iris flowers and for every flower we have two types of info:\n",
    "# 1) The species of flower, with each species represented by a number:\n",
    "#    a) 0 is Iris setosa, 1 is Iris virginica, and 2 is Iris versicolor \n",
    "# 2) The measurements of different parts of that flower.\n",
    "\n",
    "# Load data on the flowers\n",
    "iris = datasets.load_iris()\n",
    "\n",
    "# To test how accurate our model is, we further split up the dataset it two parts:\n",
    "# 1) \"training\" which we use to teach our model what each species of flowers look like.\n",
    "# 2) \"test\" which we will use to test our model's accuracy\n",
    "\n",
    "# Split up data\n",
    "data_training, data_test, species_training, species_test = train_test_split(iris.data, \n",
    "                                                                         iris.target, \n",
    "                                                                         test_size=0.4)\n",
    "\n",
    "# Train our learner on the training dataser\n",
    "clf = SVC()\n",
    "clf.fit(data_training, species_training)\n",
    "\n",
    "# View our predicted species, actual species, and our accuracy.\n",
    "# Remember that 0 is Iris setosa, 1 is Iris virginica, and 2 is Iris versicolor \n",
    "print('Real classes:', species_test)\n",
    "print('Predicted classes:', clf.predict(data_test))\n",
    "print('Percent Correct:',clf.score(data_test, species_test)*100)"
   ]
  }
 ],
 "metadata": {
  "anaconda-cloud": {},
  "kernelspec": {
   "display_name": "Python [default]",
   "language": "python",
   "name": "python3"
  },
  "language_info": {
   "codemirror_mode": {
    "name": "ipython",
    "version": 3
   },
   "file_extension": ".py",
   "mimetype": "text/x-python",
   "name": "python",
   "nbconvert_exporter": "python",
   "pygments_lexer": "ipython3",
   "version": "3.5.2"
  }
 },
 "nbformat": 4,
 "nbformat_minor": 1
}
