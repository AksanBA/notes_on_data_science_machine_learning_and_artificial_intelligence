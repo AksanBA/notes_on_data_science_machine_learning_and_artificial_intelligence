{
 "cells": [
  {
   "cell_type": "markdown",
   "metadata": {
    "deletable": true,
    "editable": true
   },
   "source": [
    "Title: Manipulating Strings  \n",
    "Slug: manipulating_strings  \n",
    "Summary: Manipulating Strings in SQL.   \n",
    "Date: 2016-05-01 12:00  \n",
    "Category: SQL  \n",
    "Tags: Basics  \n",
    "Authors: Chris Albon  \n",
    "\n",
    "Note: This tutorial was written using [Catherine Devlin's SQL in Jupyter Notebooks library](https://github.com/catherinedevlin/ipython-sql). If you have not using a Jupyter Notebook, you can ignore the two lines of code below and any line containing `%%sql`. Furthermore, This tutorial uses SQLite's flavor of SQL, your version might have some differences in syntax.\n",
    "\n",
    "For more, check out [Learning SQL](http://amzn.to/2jRriHj) by Alan Beaulieu."
   ]
  },
  {
   "cell_type": "code",
   "execution_count": 25,
   "metadata": {
    "collapsed": false,
    "deletable": true,
    "editable": true
   },
   "outputs": [
    {
     "name": "stdout",
     "output_type": "stream",
     "text": [
      "The sql extension is already loaded. To reload it, use:\n",
      "  %reload_ext sql\n"
     ]
    }
   ],
   "source": [
    "# Ignore\n",
    "%load_ext sql\n",
    "%sql sqlite://\n",
    "%config SqlMagic.feedback = False"
   ]
  },
  {
   "cell_type": "markdown",
   "metadata": {
    "deletable": true,
    "editable": true
   },
   "source": [
    "## Create Data"
   ]
  },
  {
   "cell_type": "code",
   "execution_count": 26,
   "metadata": {
    "collapsed": false,
    "deletable": true,
    "editable": true
   },
   "outputs": [
    {
     "name": "stdout",
     "output_type": "stream",
     "text": [
      "(sqlite3.OperationalError) table criminals already exists [SQL: '-- Create a table of criminals\\nCREATE TABLE criminals (pid, name, age, sex, city, minor);']\n"
     ]
    }
   ],
   "source": [
    "%%sql\n",
    "\n",
    "-- Create a table of criminals\n",
    "CREATE TABLE criminals (pid, name, age, sex, city, minor);\n",
    "INSERT INTO criminals VALUES (412, 'James Smith', 15, 'M', 'Santa Rosa', 1);\n",
    "INSERT INTO criminals VALUES (234, 'Bill James', 22, 'M', 'Santa Rosa', 0);\n",
    "INSERT INTO criminals VALUES (632, 'Stacy Miller', 23, 'F', 'Santa Rosa', 0);\n",
    "INSERT INTO criminals VALUES (621, 'Betty Bob', NULL, 'F', 'Petaluma', 1);\n",
    "INSERT INTO criminals VALUES (162, 'Jaden Ado', 49, 'M', NULL, 0);\n",
    "INSERT INTO criminals VALUES (901, 'Gordon Ado', 32, 'F', 'Santa Rosa', 0);\n",
    "INSERT INTO criminals VALUES (512, 'Bill Byson', 21, 'M', 'Santa Rosa', 0);\n",
    "INSERT INTO criminals VALUES (411, 'Bob Iton', NULL, 'M', 'San Francisco', 0);"
   ]
  },
  {
   "cell_type": "markdown",
   "metadata": {
    "deletable": true,
    "editable": true
   },
   "source": [
    "## Select A Subset Of A String"
   ]
  },
  {
   "cell_type": "code",
   "execution_count": 27,
   "metadata": {
    "collapsed": false,
    "deletable": true,
    "editable": true,
    "scrolled": true
   },
   "outputs": [
    {
     "data": {
      "text/html": [
       "<table>\n",
       "    <tr>\n",
       "        <th>substr(name,2,4)</th>\n",
       "    </tr>\n",
       "    <tr>\n",
       "        <td>ames</td>\n",
       "    </tr>\n",
       "    <tr>\n",
       "        <td>ill </td>\n",
       "    </tr>\n",
       "    <tr>\n",
       "        <td>tacy</td>\n",
       "    </tr>\n",
       "    <tr>\n",
       "        <td>etty</td>\n",
       "    </tr>\n",
       "    <tr>\n",
       "        <td>aden</td>\n",
       "    </tr>\n",
       "    <tr>\n",
       "        <td>ordo</td>\n",
       "    </tr>\n",
       "    <tr>\n",
       "        <td>ill </td>\n",
       "    </tr>\n",
       "    <tr>\n",
       "        <td>ob I</td>\n",
       "    </tr>\n",
       "</table>"
      ],
      "text/plain": [
       "[('ames',),\n",
       " ('ill ',),\n",
       " ('tacy',),\n",
       " ('etty',),\n",
       " ('aden',),\n",
       " ('ordo',),\n",
       " ('ill ',),\n",
       " ('ob I',)]"
      ]
     },
     "execution_count": 27,
     "metadata": {},
     "output_type": "execute_result"
    }
   ],
   "source": [
    "%%sql\n",
    "\n",
    "-- Select the second to sixth character (i.e. four more charactrs) in the 'name' coumn\n",
    "SELECT substr(name,2,4)\n",
    "\n",
    "-- From the table 'criminals'\n",
    "FROM criminals"
   ]
  },
  {
   "cell_type": "markdown",
   "metadata": {},
   "source": [
    "## Select Lower Case Version Of A String Column"
   ]
  },
  {
   "cell_type": "code",
   "execution_count": 28,
   "metadata": {
    "collapsed": false
   },
   "outputs": [
    {
     "data": {
      "text/html": [
       "<table>\n",
       "    <tr>\n",
       "        <th>lower(name)</th>\n",
       "    </tr>\n",
       "    <tr>\n",
       "        <td>james smith</td>\n",
       "    </tr>\n",
       "    <tr>\n",
       "        <td>bill james</td>\n",
       "    </tr>\n",
       "    <tr>\n",
       "        <td>stacy miller</td>\n",
       "    </tr>\n",
       "    <tr>\n",
       "        <td>betty bob</td>\n",
       "    </tr>\n",
       "    <tr>\n",
       "        <td>jaden ado</td>\n",
       "    </tr>\n",
       "    <tr>\n",
       "        <td>gordon ado</td>\n",
       "    </tr>\n",
       "    <tr>\n",
       "        <td>bill byson</td>\n",
       "    </tr>\n",
       "    <tr>\n",
       "        <td>bob iton</td>\n",
       "    </tr>\n",
       "</table>"
      ],
      "text/plain": [
       "[('james smith',),\n",
       " ('bill james',),\n",
       " ('stacy miller',),\n",
       " ('betty bob',),\n",
       " ('jaden ado',),\n",
       " ('gordon ado',),\n",
       " ('bill byson',),\n",
       " ('bob iton',)]"
      ]
     },
     "execution_count": 28,
     "metadata": {},
     "output_type": "execute_result"
    }
   ],
   "source": [
    "%%sql\n",
    "\n",
    "-- Select a lower case version of column 'name'\n",
    "SELECT lower(name)\n",
    "\n",
    "-- From the table 'criminals'\n",
    "FROM criminals"
   ]
  },
  {
   "cell_type": "markdown",
   "metadata": {},
   "source": [
    "## Select Upper Case Version Of A String Column"
   ]
  },
  {
   "cell_type": "code",
   "execution_count": 29,
   "metadata": {
    "collapsed": false
   },
   "outputs": [
    {
     "data": {
      "text/html": [
       "<table>\n",
       "    <tr>\n",
       "        <th>upper(name)</th>\n",
       "    </tr>\n",
       "    <tr>\n",
       "        <td>JAMES SMITH</td>\n",
       "    </tr>\n",
       "    <tr>\n",
       "        <td>BILL JAMES</td>\n",
       "    </tr>\n",
       "    <tr>\n",
       "        <td>STACY MILLER</td>\n",
       "    </tr>\n",
       "    <tr>\n",
       "        <td>BETTY BOB</td>\n",
       "    </tr>\n",
       "    <tr>\n",
       "        <td>JADEN ADO</td>\n",
       "    </tr>\n",
       "    <tr>\n",
       "        <td>GORDON ADO</td>\n",
       "    </tr>\n",
       "    <tr>\n",
       "        <td>BILL BYSON</td>\n",
       "    </tr>\n",
       "    <tr>\n",
       "        <td>BOB ITON</td>\n",
       "    </tr>\n",
       "</table>"
      ],
      "text/plain": [
       "[('JAMES SMITH',),\n",
       " ('BILL JAMES',),\n",
       " ('STACY MILLER',),\n",
       " ('BETTY BOB',),\n",
       " ('JADEN ADO',),\n",
       " ('GORDON ADO',),\n",
       " ('BILL BYSON',),\n",
       " ('BOB ITON',)]"
      ]
     },
     "execution_count": 29,
     "metadata": {},
     "output_type": "execute_result"
    }
   ],
   "source": [
    "%%sql\n",
    "\n",
    "-- Select a upper case version of column 'name'\n",
    "SELECT upper(name)\n",
    "\n",
    "-- From the table 'criminals'\n",
    "FROM criminals"
   ]
  },
  {
   "cell_type": "markdown",
   "metadata": {},
   "source": [
    "## Select The Number Of Characters Of Each Value In A String Column"
   ]
  },
  {
   "cell_type": "code",
   "execution_count": 30,
   "metadata": {
    "collapsed": false
   },
   "outputs": [
    {
     "data": {
      "text/html": [
       "<table>\n",
       "    <tr>\n",
       "        <th>length(name)</th>\n",
       "    </tr>\n",
       "    <tr>\n",
       "        <td>11</td>\n",
       "    </tr>\n",
       "    <tr>\n",
       "        <td>10</td>\n",
       "    </tr>\n",
       "    <tr>\n",
       "        <td>12</td>\n",
       "    </tr>\n",
       "    <tr>\n",
       "        <td>9</td>\n",
       "    </tr>\n",
       "    <tr>\n",
       "        <td>9</td>\n",
       "    </tr>\n",
       "    <tr>\n",
       "        <td>10</td>\n",
       "    </tr>\n",
       "    <tr>\n",
       "        <td>10</td>\n",
       "    </tr>\n",
       "    <tr>\n",
       "        <td>8</td>\n",
       "    </tr>\n",
       "</table>"
      ],
      "text/plain": [
       "[(11,), (10,), (12,), (9,), (9,), (10,), (10,), (8,)]"
      ]
     },
     "execution_count": 30,
     "metadata": {},
     "output_type": "execute_result"
    }
   ],
   "source": [
    "%%sql\n",
    "\n",
    "-- Select a string length version of column 'name'\n",
    "SELECT length(name)\n",
    "\n",
    "-- From the table 'criminals'\n",
    "FROM criminals"
   ]
  },
  {
   "cell_type": "markdown",
   "metadata": {},
   "source": [
    "## Select The Values In A String Column With Wrapped Quotes"
   ]
  },
  {
   "cell_type": "code",
   "execution_count": 31,
   "metadata": {
    "collapsed": false
   },
   "outputs": [
    {
     "data": {
      "text/html": [
       "<table>\n",
       "    <tr>\n",
       "        <th>quote(name)</th>\n",
       "    </tr>\n",
       "    <tr>\n",
       "        <td>&#x27;James Smith&#x27;</td>\n",
       "    </tr>\n",
       "    <tr>\n",
       "        <td>&#x27;Bill James&#x27;</td>\n",
       "    </tr>\n",
       "    <tr>\n",
       "        <td>&#x27;Stacy Miller&#x27;</td>\n",
       "    </tr>\n",
       "    <tr>\n",
       "        <td>&#x27;Betty Bob&#x27;</td>\n",
       "    </tr>\n",
       "    <tr>\n",
       "        <td>&#x27;Jaden Ado&#x27;</td>\n",
       "    </tr>\n",
       "    <tr>\n",
       "        <td>&#x27;Gordon Ado&#x27;</td>\n",
       "    </tr>\n",
       "    <tr>\n",
       "        <td>&#x27;Bill Byson&#x27;</td>\n",
       "    </tr>\n",
       "    <tr>\n",
       "        <td>&#x27;Bob Iton&#x27;</td>\n",
       "    </tr>\n",
       "</table>"
      ],
      "text/plain": [
       "[(\"'James Smith'\",),\n",
       " (\"'Bill James'\",),\n",
       " (\"'Stacy Miller'\",),\n",
       " (\"'Betty Bob'\",),\n",
       " (\"'Jaden Ado'\",),\n",
       " (\"'Gordon Ado'\",),\n",
       " (\"'Bill Byson'\",),\n",
       " (\"'Bob Iton'\",)]"
      ]
     },
     "execution_count": 31,
     "metadata": {},
     "output_type": "execute_result"
    }
   ],
   "source": [
    "%%sql\n",
    "\n",
    "-- Select the values of the string column with wrapped quotes\n",
    "SELECT quote(name)\n",
    "\n",
    "-- From the table 'criminals'\n",
    "FROM criminals"
   ]
  },
  {
   "cell_type": "markdown",
   "metadata": {},
   "source": [
    "## Replace Certain Values In A String Column"
   ]
  },
  {
   "cell_type": "code",
   "execution_count": 32,
   "metadata": {
    "collapsed": false
   },
   "outputs": [
    {
     "data": {
      "text/html": [
       "<table>\n",
       "    <tr>\n",
       "        <th>replace(name, &#x27;Ado&#x27;, &#x27;Adonroni&#x27;)</th>\n",
       "    </tr>\n",
       "    <tr>\n",
       "        <td>James Smith</td>\n",
       "    </tr>\n",
       "    <tr>\n",
       "        <td>Bill James</td>\n",
       "    </tr>\n",
       "    <tr>\n",
       "        <td>Stacy Miller</td>\n",
       "    </tr>\n",
       "    <tr>\n",
       "        <td>Betty Bob</td>\n",
       "    </tr>\n",
       "    <tr>\n",
       "        <td>Jaden Adonroni</td>\n",
       "    </tr>\n",
       "    <tr>\n",
       "        <td>Gordon Adonroni</td>\n",
       "    </tr>\n",
       "    <tr>\n",
       "        <td>Bill Byson</td>\n",
       "    </tr>\n",
       "    <tr>\n",
       "        <td>Bob Iton</td>\n",
       "    </tr>\n",
       "</table>"
      ],
      "text/plain": [
       "[('James Smith',),\n",
       " ('Bill James',),\n",
       " ('Stacy Miller',),\n",
       " ('Betty Bob',),\n",
       " ('Jaden Adonroni',),\n",
       " ('Gordon Adonroni',),\n",
       " ('Bill Byson',),\n",
       " ('Bob Iton',)]"
      ]
     },
     "execution_count": 32,
     "metadata": {},
     "output_type": "execute_result"
    }
   ],
   "source": [
    "%%sql\n",
    "\n",
    "-- Select values of a string column while replacing 'Ado' with 'Adonroni'\n",
    "SELECT replace(name, 'Ado', 'Adonroni')\n",
    "\n",
    "-- From the table 'criminals'\n",
    "FROM criminals"
   ]
  }
 ],
 "metadata": {
  "anaconda-cloud": {},
  "kernelspec": {
   "display_name": "Python [default]",
   "language": "python",
   "name": "python3"
  },
  "language_info": {
   "codemirror_mode": {
    "name": "ipython",
    "version": 3
   },
   "file_extension": ".py",
   "mimetype": "text/x-python",
   "name": "python",
   "nbconvert_exporter": "python",
   "pygments_lexer": "ipython3",
   "version": "3.5.2"
  }
 },
 "nbformat": 4,
 "nbformat_minor": 1
}
