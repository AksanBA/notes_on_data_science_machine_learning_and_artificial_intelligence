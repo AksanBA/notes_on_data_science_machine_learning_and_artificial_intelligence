{
 "cells": [
  {
   "cell_type": "markdown",
   "metadata": {},
   "source": [
    "Title: Concatenating The Values Of Two Columns  \n",
    "Slug: concatenating_values_of_two_columns  \n",
    "Summary: Concatenating The Values Of Two Columns Values in SQL.    \n",
    "Date: 2016-05-01 12:00  \n",
    "Category: SQL  \n",
    "Tags: Basics  \n",
    "Authors: Chris Albon  \n",
    "\n",
    "Note: This tutorial was written using [Catherine Devlin's SQL in Jupyter Notebooks library](https://github.com/catherinedevlin/ipython-sql). If you have not using a Jupyter Notebook, you can ignore the two lines of code below and any line containing `%%sql`. Furthermore, This tutorial uses SQLite's flavor of SQL, your version might have some differences in syntax.\n",
    "\n",
    "For more, check out [Learning SQL](http://amzn.to/2jRriHj) by Alan Beaulieu."
   ]
  },
  {
   "cell_type": "code",
   "execution_count": 1,
   "metadata": {
    "collapsed": false
   },
   "outputs": [],
   "source": [
    "# Ignore\n",
    "%load_ext sql\n",
    "%sql sqlite://\n",
    "%config SqlMagic.feedback = False"
   ]
  },
  {
   "cell_type": "markdown",
   "metadata": {},
   "source": [
    "## Create Data"
   ]
  },
  {
   "cell_type": "code",
   "execution_count": 2,
   "metadata": {
    "collapsed": false
   },
   "outputs": [
    {
     "data": {
      "text/plain": [
       "[]"
      ]
     },
     "execution_count": 2,
     "metadata": {},
     "output_type": "execute_result"
    }
   ],
   "source": [
    "%%sql\n",
    "\n",
    "-- Create a table of criminals\n",
    "CREATE TABLE criminals (pid, first_name, last_name, sex, city, minor);\n",
    "INSERT INTO criminals VALUES (412, 'James', 'Smith', 'M', 'Santa Rosa', 1);\n",
    "INSERT INTO criminals VALUES (234, 'Bill', 'James', 'M', 'Santa Rosa', 0);\n",
    "INSERT INTO criminals VALUES (632, 'Stacy', 'Miller', 'F', 'Santa Rosa', 0);\n",
    "INSERT INTO criminals VALUES (621, 'Betty', 'Bob', 'F', 'Petaluma', 1);\n",
    "INSERT INTO criminals VALUES (162, 'Jaden', 'Ado', 'M', NULL, 0);\n",
    "INSERT INTO criminals VALUES (901, 'Gordon', 'Ado', 'F', 'Santa Rosa', 0);\n",
    "INSERT INTO criminals VALUES (512, 'Bill', 'Byson', 'M', 'Santa Rosa', 0);\n",
    "INSERT INTO criminals VALUES (411, 'Bob', 'Iton', 'M', 'San Francisco', 0);"
   ]
  },
  {
   "cell_type": "markdown",
   "metadata": {},
   "source": [
    "## Concatenate First And Last Names"
   ]
  },
  {
   "cell_type": "code",
   "execution_count": 3,
   "metadata": {
    "collapsed": false,
    "scrolled": true
   },
   "outputs": [
    {
     "data": {
      "text/html": [
       "<table>\n",
       "    <tr>\n",
       "        <th>full_name</th>\n",
       "    </tr>\n",
       "    <tr>\n",
       "        <td>James Smith</td>\n",
       "    </tr>\n",
       "    <tr>\n",
       "        <td>Bill James</td>\n",
       "    </tr>\n",
       "    <tr>\n",
       "        <td>Stacy Miller</td>\n",
       "    </tr>\n",
       "    <tr>\n",
       "        <td>Betty Bob</td>\n",
       "    </tr>\n",
       "    <tr>\n",
       "        <td>Jaden Ado</td>\n",
       "    </tr>\n",
       "    <tr>\n",
       "        <td>Gordon Ado</td>\n",
       "    </tr>\n",
       "    <tr>\n",
       "        <td>Bill Byson</td>\n",
       "    </tr>\n",
       "    <tr>\n",
       "        <td>Bob Iton</td>\n",
       "    </tr>\n",
       "</table>"
      ],
      "text/plain": [
       "[('James Smith',),\n",
       " ('Bill James',),\n",
       " ('Stacy Miller',),\n",
       " ('Betty Bob',),\n",
       " ('Jaden Ado',),\n",
       " ('Gordon Ado',),\n",
       " ('Bill Byson',),\n",
       " ('Bob Iton',)]"
      ]
     },
     "execution_count": 3,
     "metadata": {},
     "output_type": "execute_result"
    }
   ],
   "source": [
    "%%sql\n",
    "\n",
    "-- Combine first_name, then a space, then last_name in a new column called full_name\n",
    "SELECT first_name || ' ' || last_name AS 'full_name'\n",
    "\n",
    "-- From the table 'criminals'\n",
    "FROM criminals"
   ]
  },
  {
   "cell_type": "code",
   "execution_count": null,
   "metadata": {
    "collapsed": true
   },
   "outputs": [],
   "source": []
  }
 ],
 "metadata": {
  "anaconda-cloud": {},
  "kernelspec": {
   "display_name": "Python [default]",
   "language": "python",
   "name": "python3"
  },
  "language_info": {
   "codemirror_mode": {
    "name": "ipython",
    "version": 3
   },
   "file_extension": ".py",
   "mimetype": "text/x-python",
   "name": "python",
   "nbconvert_exporter": "python",
   "pygments_lexer": "ipython3",
   "version": "3.5.2"
  }
 },
 "nbformat": 4,
 "nbformat_minor": 1
}
