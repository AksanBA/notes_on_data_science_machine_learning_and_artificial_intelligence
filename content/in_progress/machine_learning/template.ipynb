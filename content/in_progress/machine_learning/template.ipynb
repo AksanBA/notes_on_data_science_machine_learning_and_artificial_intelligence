{
 "cells": [
  {
   "cell_type": "markdown",
   "metadata": {},
   "source": [
    "Title: Title  \n",
    "Slug: slug  \n",
    "Summary: Summary For Machine Learning.  \n",
    "Date: 2016-01-30 12:00  \n",
    "Category: Machine Learning  \n",
    "Tags: Basics Preprocessing Feature Engineering Feature Selection Supervised Learning - Classification Supervised Learning - Regression Unsupervised Learning Model Selection Model Evaluation  \n",
    "Authors: Chris Albon  \n",
    "    \n",
    "Want to learn more? Check out [Introduction to Machine Learning with Python](http://amzn.to/2mKw0eZ), [Hands-On Machine Learning with Scikit-Learn and TensorFlow](http://amzn.to/2lHwAKA), and [Thoughtful Machine Learning with Python](http://amzn.to/2n3xfGM)."
   ]
  },
  {
   "cell_type": "code",
   "execution_count": 10,
   "metadata": {
    "collapsed": false
   },
   "outputs": [],
   "source": [
    "from sklearn.datasets import make_regression\n",
    "from sklearn import linear_model"
   ]
  },
  {
   "cell_type": "code",
   "execution_count": 18,
   "metadata": {
    "collapsed": false
   },
   "outputs": [],
   "source": [
    "# Generate fetures, outputs, and true coefficient of 100 samples,\n",
    "features, target, coef = make_regression(n_samples = 100,\n",
    "                                         # three features\n",
    "                                         n_features = 3,\n",
    "                                         # where all features are useful,\n",
    "                                         n_informative = 3,\n",
    "                                         # a single target value per observation\n",
    "                                         n_targets = 1,\n",
    "                                         # 0.0 standard deviation of the guassian noise\n",
    "                                         noise = 0.0,\n",
    "                                         # show the true coefficient used to generated the data\n",
    "                                         coef = True)"
   ]
  },
  {
   "cell_type": "code",
   "execution_count": 19,
   "metadata": {
    "collapsed": false
   },
   "outputs": [
    {
     "data": {
      "text/plain": [
       "array([[ 0.34442305,  0.84210916,  0.86243492],\n",
       "       [-0.00323302, -0.54482115, -0.17366306],\n",
       "       [-0.27134498, -1.76846521, -0.30289214],\n",
       "       [ 1.06305521,  1.77091754, -0.54183502]])"
      ]
     },
     "execution_count": 19,
     "metadata": {},
     "output_type": "execute_result"
    }
   ],
   "source": [
    "features[0:4]"
   ]
  },
  {
   "cell_type": "code",
   "execution_count": 20,
   "metadata": {
    "collapsed": false
   },
   "outputs": [
    {
     "data": {
      "text/plain": [
       "array([  93.84546427,  -44.22926749, -151.64534838,  175.49997169])"
      ]
     },
     "execution_count": 20,
     "metadata": {},
     "output_type": "execute_result"
    }
   ],
   "source": [
    "target[0:4]"
   ]
  },
  {
   "cell_type": "code",
   "execution_count": 21,
   "metadata": {
    "collapsed": false
   },
   "outputs": [
    {
     "data": {
      "text/plain": [
       "Ridge(alpha=0.5, copy_X=True, fit_intercept=True, max_iter=None,\n",
       "   normalize=False, random_state=None, solver='auto', tol=0.001)"
      ]
     },
     "execution_count": 21,
     "metadata": {},
     "output_type": "execute_result"
    }
   ],
   "source": [
    "reg = linear_model.Ridge (alpha = .5)\n",
    "\n",
    "reg.fit (features, target) "
   ]
  },
  {
   "cell_type": "code",
   "execution_count": 22,
   "metadata": {
    "collapsed": false
   },
   "outputs": [
    {
     "data": {
      "text/plain": [
       "array([ 46.77479443,  75.49192562,  15.90298952])"
      ]
     },
     "execution_count": 22,
     "metadata": {},
     "output_type": "execute_result"
    }
   ],
   "source": [
    "reg.coef_ # the coeffients from the ridge regression"
   ]
  },
  {
   "cell_type": "code",
   "execution_count": 23,
   "metadata": {
    "collapsed": false
   },
   "outputs": [
    {
     "data": {
      "text/plain": [
       "array([ 47.00727771,  75.79029593,  16.03758334])"
      ]
     },
     "execution_count": 23,
     "metadata": {},
     "output_type": "execute_result"
    }
   ],
   "source": [
    "coef # the true coefficient used to generated the data"
   ]
  }
 ],
 "metadata": {
  "kernelspec": {
   "display_name": "Python [conda root]",
   "language": "python",
   "name": "conda-root-py"
  },
  "language_info": {
   "codemirror_mode": {
    "name": "ipython",
    "version": 3
   },
   "file_extension": ".py",
   "mimetype": "text/x-python",
   "name": "python",
   "nbconvert_exporter": "python",
   "pygments_lexer": "ipython3",
   "version": "3.5.2"
  }
 },
 "nbformat": 4,
 "nbformat_minor": 2
}
