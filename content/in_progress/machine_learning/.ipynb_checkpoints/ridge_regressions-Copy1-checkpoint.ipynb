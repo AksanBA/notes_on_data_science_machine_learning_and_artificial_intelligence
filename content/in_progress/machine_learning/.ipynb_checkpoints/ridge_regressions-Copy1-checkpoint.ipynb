{
 "cells": [
  {
   "cell_type": "markdown",
   "metadata": {
    "deletable": true,
    "editable": true
   },
   "source": [
    "Title: Ridge Regressions  \n",
    "Slug: ridge_regressions  \n",
    "Summary: Ridge Regressions For Machine Learning.  \n",
    "Date: 2016-01-30 12:00  \n",
    "Category: Machine Learning  \n",
    "Tags: Supervised Learning - Regression  \n",
    "Authors: Chris Albon  \n",
    "    \n",
    "Want to learn more? Check out [Introduction to Machine Learning with Python](http://amzn.to/2mKw0eZ), [Hands-On Machine Learning with Scikit-Learn and TensorFlow](http://amzn.to/2lHwAKA), and [Thoughtful Machine Learning with Python](http://amzn.to/2n3xfGM)."
   ]
  },
  {
   "cell_type": "markdown",
   "metadata": {},
   "source": [
    "## Preliminaries"
   ]
  },
  {
   "cell_type": "code",
   "execution_count": 60,
   "metadata": {
    "collapsed": false,
    "deletable": true,
    "editable": true
   },
   "outputs": [],
   "source": [
    "from sklearn.datasets import make_regression\n",
    "from sklearn import linear_model"
   ]
  },
  {
   "cell_type": "markdown",
   "metadata": {},
   "source": [
    "## Generate Random Data"
   ]
  },
  {
   "cell_type": "code",
   "execution_count": 61,
   "metadata": {
    "collapsed": false,
    "deletable": true,
    "editable": true
   },
   "outputs": [],
   "source": [
    "# Generate fetures, outputs, and true coefficient of 100 samples,\n",
    "features, target, coef = make_regression(n_samples = 10000,\n",
    "                                         # five features\n",
    "                                         n_features = 5,\n",
    "                                         # where all features are useful,\n",
    "                                         n_informative = 5,\n",
    "                                         # a single target value per observation\n",
    "                                         n_targets = 1,\n",
    "                                         # 0.0 standard deviation of the Gaussian noise\n",
    "                                         noise = 0.0,\n",
    "                                         # show the true coefficient used to generated the data\n",
    "                                         coef = True)"
   ]
  },
  {
   "cell_type": "markdown",
   "metadata": {},
   "source": [
    "## View The Data"
   ]
  },
  {
   "cell_type": "code",
   "execution_count": 62,
   "metadata": {
    "collapsed": false,
    "deletable": true,
    "editable": true
   },
   "outputs": [
    {
     "data": {
      "text/plain": [
       "array([[-0.1519372 ,  0.43192287,  1.01930823,  0.17954479, -0.42279776],\n",
       "       [ 0.98121276, -0.0853224 , -0.73313425,  1.01488223, -0.54530842],\n",
       "       [-0.099432  , -0.12798093, -0.12502184, -1.28695883, -0.19297805],\n",
       "       [-0.19763045,  0.17286074, -0.20255568, -0.84589906, -1.46394786]])"
      ]
     },
     "execution_count": 62,
     "metadata": {},
     "output_type": "execute_result"
    }
   ],
   "source": [
    "# View four values from each feature\n",
    "features[0:4]"
   ]
  },
  {
   "cell_type": "code",
   "execution_count": 63,
   "metadata": {
    "collapsed": false,
    "deletable": true,
    "editable": true
   },
   "outputs": [
    {
     "data": {
      "text/plain": [
       "array([  -1.57683336,   14.49109746, -124.23830021, -210.12970783])"
      ]
     },
     "execution_count": 63,
     "metadata": {},
     "output_type": "execute_result"
    }
   ],
   "source": [
    "# View four target values\n",
    "target[0:4]"
   ]
  },
  {
   "cell_type": "markdown",
   "metadata": {},
   "source": [
    "## Create A Ridge Regression Object"
   ]
  },
  {
   "cell_type": "code",
   "execution_count": 64,
   "metadata": {
    "collapsed": false,
    "deletable": true,
    "editable": true
   },
   "outputs": [],
   "source": [
    "# Create a ridge regression with a shrinkage factor of .5\n",
    "ridge = linear_model.Ridge(alpha=.5)"
   ]
  },
  {
   "cell_type": "markdown",
   "metadata": {},
   "source": [
    "## Fit The Ridge Regression"
   ]
  },
  {
   "cell_type": "code",
   "execution_count": 65,
   "metadata": {
    "collapsed": false
   },
   "outputs": [
    {
     "data": {
      "text/plain": [
       "Ridge(alpha=0.5, copy_X=True, fit_intercept=True, max_iter=None,\n",
       "   normalize=False, random_state=None, solver='auto', tol=0.001)"
      ]
     },
     "execution_count": 65,
     "metadata": {},
     "output_type": "execute_result"
    }
   ],
   "source": [
    "# Fit the ridge regression to the features and target\n",
    "ridge.fit(features, target) "
   ]
  },
  {
   "cell_type": "markdown",
   "metadata": {},
   "source": [
    "## Compare The Predicted Coefficients With The True Coefficients"
   ]
  },
  {
   "cell_type": "code",
   "execution_count": 66,
   "metadata": {
    "collapsed": false,
    "deletable": true,
    "editable": true
   },
   "outputs": [
    {
     "data": {
      "text/plain": [
       "array([  4.09876839,  27.44924019,  15.16057504,  77.08047367,  99.58080349])"
      ]
     },
     "execution_count": 66,
     "metadata": {},
     "output_type": "execute_result"
    }
   ],
   "source": [
    "# View the predicted coeffients from the ridge regression\n",
    "ridge.coef_ "
   ]
  },
  {
   "cell_type": "code",
   "execution_count": 67,
   "metadata": {
    "collapsed": false,
    "deletable": true,
    "editable": true
   },
   "outputs": [
    {
     "data": {
      "text/plain": [
       "array([  4.09895133,  27.45044231,  15.16126312,  77.08425456,  99.58567515])"
      ]
     },
     "execution_count": 67,
     "metadata": {},
     "output_type": "execute_result"
    }
   ],
   "source": [
    "# View the true coefficient used to generated the data\n",
    "coef "
   ]
  },
  {
   "cell_type": "code",
   "execution_count": 68,
   "metadata": {
    "collapsed": false
   },
   "outputs": [
    {
     "data": {
      "text/plain": [
       "-0.002145136141300874"
      ]
     },
     "execution_count": 68,
     "metadata": {},
     "output_type": "execute_result"
    }
   ],
   "source": [
    "# Average absolute difference between predicted coefficients and true coefficients\n",
    "sum(abs(ridge.coef_) - abs(coef))/len(coef)"
   ]
  }
 ],
 "metadata": {
  "kernelspec": {
   "display_name": "Python [conda root]",
   "language": "python",
   "name": "conda-root-py"
  },
  "language_info": {
   "codemirror_mode": {
    "name": "ipython",
    "version": 3
   },
   "file_extension": ".py",
   "mimetype": "text/x-python",
   "name": "python",
   "nbconvert_exporter": "python",
   "pygments_lexer": "ipython3",
   "version": "3.5.2"
  }
 },
 "nbformat": 4,
 "nbformat_minor": 2
}
