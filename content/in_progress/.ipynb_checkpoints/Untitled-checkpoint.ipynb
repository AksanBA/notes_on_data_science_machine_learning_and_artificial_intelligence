{
 "cells": [
  {
   "cell_type": "code",
   "execution_count": 28,
   "metadata": {},
   "outputs": [
    {
     "name": "stdout",
     "output_type": "stream",
     "text": [
      "Last row: Endor\n"
     ]
    }
   ],
   "source": [
    "f = [\"Bob\", \"Sarah\", \"Bob\", \"Steve\", \"Endor\"]\n",
    "\n",
    "length = len(f)\n",
    "for i, row in enumerate(f, 1):\n",
    "    if i == length:\n",
    "        print(\"Last row:\",row)"
   ]
  }
 ],
 "metadata": {
  "kernelspec": {
   "display_name": "Python [default]",
   "language": "python",
   "name": "python3"
  },
  "language_info": {
   "codemirror_mode": {
    "name": "ipython",
    "version": 3
   },
   "file_extension": ".py",
   "mimetype": "text/x-python",
   "name": "python",
   "nbconvert_exporter": "python",
   "pygments_lexer": "ipython3",
   "version": "3.5.2"
  }
 },
 "nbformat": 4,
 "nbformat_minor": 1
}
