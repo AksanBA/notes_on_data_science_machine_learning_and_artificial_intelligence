{
 "cells": [
  {
   "cell_type": "code",
   "execution_count": null,
   "metadata": {
    "collapsed": true
   },
   "outputs": [],
   "source": [
    "DIAL_CODES = [                   1\n",
    "...         (86, 'China'),\n",
    "...         (91, 'India'),\n",
    "...         (1, 'United States'),\n",
    "...         (62, 'Indonesia'),\n",
    "...         (55, 'Brazil'),\n",
    "...         (92, 'Pakistan'),\n",
    "...         (880, 'Bangladesh'),\n",
    "...         (234, 'Nigeria'),\n",
    "...         (7, 'Russia'),\n",
    "...         (81, 'Japan'),\n",
    "...     ]\n",
    "country_code = {country: code for code, country in DIAL_CODES}  2\n",
    "country_code\n",
    "\n",
    "{'China': 86, 'India': 91, 'Bangladesh': 880, 'United States': 1,\n",
    "'Pakistan': 92, 'Japan': 81, 'Russia': 7, 'Brazil': 55, 'Nigeria':\n",
    "234, 'Indonesia': 62}\n",
    "\n",
    "{code: country.upper() for country, code in country_code.items()  if code < 66}\n",
    "{1: 'UNITED STATES', 55: 'BRAZIL', 62: 'INDONESIA', 7: 'RUSSIA'}"
   ]
  }
 ],
 "metadata": {
  "anaconda-cloud": {},
  "kernelspec": {
   "display_name": "Python [conda root]",
   "language": "python",
   "name": "conda-root-py"
  },
  "language_info": {
   "codemirror_mode": {
    "name": "ipython",
    "version": 3
   },
   "file_extension": ".py",
   "mimetype": "text/x-python",
   "name": "python",
   "nbconvert_exporter": "python",
   "pygments_lexer": "ipython3",
   "version": "3.5.2"
  }
 },
 "nbformat": 4,
 "nbformat_minor": 1
}
