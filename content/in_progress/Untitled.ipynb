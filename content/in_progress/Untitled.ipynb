{
 "cells": [
  {
   "cell_type": "code",
   "execution_count": 30,
   "metadata": {},
   "outputs": [
    {
     "ename": "ImportError",
     "evalue": "No module named 'PyQt4'",
     "output_type": "error",
     "traceback": [
      "\u001b[0;31m---------------------------------------------------------------------------\u001b[0m",
      "\u001b[0;31mImportError\u001b[0m                               Traceback (most recent call last)",
      "\u001b[0;32m<ipython-input-30-18bbfdee6262>\u001b[0m in \u001b[0;36m<module>\u001b[0;34m()\u001b[0m\n\u001b[1;32m      1\u001b[0m \u001b[0;32mimport\u001b[0m \u001b[0msys\u001b[0m\u001b[0;34m\u001b[0m\u001b[0m\n\u001b[1;32m      2\u001b[0m \u001b[0;32mimport\u001b[0m \u001b[0mtime\u001b[0m\u001b[0;34m\u001b[0m\u001b[0m\n\u001b[0;32m----> 3\u001b[0;31m \u001b[0;32mfrom\u001b[0m \u001b[0mPyQt4\u001b[0m\u001b[0;34m.\u001b[0m\u001b[0mQtCore\u001b[0m \u001b[0;32mimport\u001b[0m \u001b[0;34m*\u001b[0m\u001b[0;34m\u001b[0m\u001b[0m\n\u001b[0m\u001b[1;32m      4\u001b[0m \u001b[0;32mfrom\u001b[0m \u001b[0mPyQt4\u001b[0m\u001b[0;34m.\u001b[0m\u001b[0mQtGui\u001b[0m \u001b[0;32mimport\u001b[0m \u001b[0;34m*\u001b[0m\u001b[0;34m\u001b[0m\u001b[0m\n\u001b[1;32m      5\u001b[0m \u001b[0;32mfrom\u001b[0m \u001b[0mPyQt4\u001b[0m\u001b[0;34m.\u001b[0m\u001b[0mQtWebKit\u001b[0m \u001b[0;32mimport\u001b[0m \u001b[0;34m*\u001b[0m\u001b[0;34m\u001b[0m\u001b[0m\n",
      "\u001b[0;31mImportError\u001b[0m: No module named 'PyQt4'"
     ]
    }
   ],
   "source": [
    "import sys\n",
    "import time\n",
    "from PyQt4.QtCore import *\n",
    "from PyQt4.QtGui import *\n",
    "from PyQt4.QtWebKit import *\n",
    "\n",
    "class Screenshot(QWebView):\n",
    "    def __init__(self):\n",
    "        self.app = QApplication(sys.argv)\n",
    "        QWebView.__init__(self)\n",
    "        self._loaded = False\n",
    "        self.loadFinished.connect(self._loadFinished)\n",
    "\n",
    "    def capture(self, url, output_file):\n",
    "        self.load(QUrl(url))\n",
    "        self.wait_load()\n",
    "        # set to webpage size\n",
    "        frame = self.page().mainFrame()\n",
    "        self.page().setViewportSize(frame.contentsSize())\n",
    "        # render image\n",
    "        image = QImage(self.page().viewportSize(), QImage.Format_ARGB32)\n",
    "        painter = QPainter(image)\n",
    "        frame.render(painter)\n",
    "        painter.end()\n",
    "        print('saving', output_file)\n",
    "        image.save(output_file)\n",
    "\n",
    "    def wait_load(self, delay=0):\n",
    "        # process app events until page loaded\n",
    "        while not self._loaded:\n",
    "            self.app.processEvents()\n",
    "            time.sleep(delay)\n",
    "        self._loaded = False\n",
    "\n",
    "    def _loadFinished(self, result):\n",
    "        self._loaded = True\n",
    "\n",
    "s = Screenshot()\n",
    "s.capture('http://webscraping.com', 'website.png')\n",
    "s.capture('http://webscraping.com/blog', 'blog.png')"
   ]
  },
  {
   "cell_type": "code",
   "execution_count": null,
   "metadata": {},
   "outputs": [],
   "source": []
  }
 ],
 "metadata": {
  "kernelspec": {
   "display_name": "Python [default]",
   "language": "python",
   "name": "python3"
  },
  "language_info": {
   "codemirror_mode": {
    "name": "ipython",
    "version": 3
   },
   "file_extension": ".py",
   "mimetype": "text/x-python",
   "name": "python",
   "nbconvert_exporter": "python",
   "pygments_lexer": "ipython3",
   "version": "3.5.2"
  }
 },
 "nbformat": 4,
 "nbformat_minor": 1
}
