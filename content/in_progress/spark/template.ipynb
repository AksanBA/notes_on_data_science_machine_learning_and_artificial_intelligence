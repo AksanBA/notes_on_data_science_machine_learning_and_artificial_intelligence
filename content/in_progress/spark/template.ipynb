{
 "cells": [
  {
   "cell_type": "markdown",
   "metadata": {},
   "source": [
    "Title: Title  \n",
    "Slug: slug  \n",
    "Summary: Summary in Spark.  \n",
    "Date: 2016-12-01 12:00  \n",
    "Category: Spark  \n",
    "Tags: PySpark Basics  \n",
    "Authors: Chris Albon  "
   ]
  },
  {
   "cell_type": "code",
   "execution_count": null,
   "metadata": {
    "collapsed": true
   },
   "outputs": [],
   "source": []
  }
 ],
 "metadata": {
  "kernelspec": {
   "display_name": "Apache Toree - PySpark",
   "language": "python",
   "name": "apache_toree_pyspark"
  },
  "language_info": {
   "file_extension": ".py",
   "name": "python",
   "pygments_lexer": "python",
   "version": "3.5.2\n"
  }
 },
 "nbformat": 4,
 "nbformat_minor": 2
}
