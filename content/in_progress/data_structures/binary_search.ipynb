{
 "cells": [
  {
   "cell_type": "markdown",
   "metadata": {},
   "source": [
    "Title: Binary Search  \n",
    "Slug: binary_search  \n",
    "Summary: Binary Search Using Python.  \n",
    "Date: 2016-01-30 12:00  \n",
    "Category: Python  \n",
    "Tags: Computer Science  \n",
    "Authors: Chris Albon  \n",
    "    \n",
    "Want to learn more? Check out [Data Structures and Algorithms in Python](http://amzn.to/2kjkqWQ)"
   ]
  },
  {
   "cell_type": "markdown",
   "metadata": {},
   "source": [
    "## Create Sorted List"
   ]
  },
  {
   "cell_type": "code",
   "execution_count": 1,
   "metadata": {
    "collapsed": false
   },
   "outputs": [
    {
     "data": {
      "text/plain": [
       "[0, 1, 2, 3, 4, 5, 6, 7, 8, 9, 10, 11, 12, 13, 14, 15, 16, 17, 18, 19]"
      ]
     },
     "execution_count": 1,
     "metadata": {},
     "output_type": "execute_result"
    }
   ],
   "source": [
    "sorted_list = list(range(20))\n",
    "\n",
    "sorted_list"
   ]
  },
  {
   "cell_type": "markdown",
   "metadata": {},
   "source": [
    "## Create A Binary Search Algorithm"
   ]
  },
  {
   "cell_type": "code",
   "execution_count": 2,
   "metadata": {
    "collapsed": false,
    "scrolled": true
   },
   "outputs": [
    {
     "name": "stdout",
     "output_type": "stream",
     "text": [
      "Search area: [0, 1, 2, 3, 4, 5, 6, 7, 8, 9, 10, 11, 12, 13, 14, 15, 16, 17, 18, 19]\n",
      "Search area: [0, 1, 2, 3, 4, 5, 6, 7, 8]\n",
      "Search area: [4, 5, 6, 7, 8]\n",
      "Search area: [6, 7, 8]\n",
      "Found it! 7\n"
     ]
    }
   ],
   "source": [
    "# Define a function that takes a sorted list and the value we want to find,\n",
    "def binary_search(sorted_list, target):\n",
    "    \n",
    "    # Set the initial search area to be the whole list\n",
    "    search_area = sorted_list\n",
    "    \n",
    "    # While the search area has at least 1 element,\n",
    "    while len(search_area) >= 1:\n",
    "        \n",
    "        # Print the current search area:\n",
    "        print('Search area:', search_area)\n",
    "        \n",
    "        # Create the index of the last element\n",
    "        end = len(search_area) - 1\n",
    "        \n",
    "        # Create the index of the first element\n",
    "        middle = int((0 + end)/2)\n",
    "        \n",
    "        # If target is smaller than the middle value of the search area\n",
    "        if target < search_area[middle]:\n",
    "            # Make the new search area the first half of the current search area \n",
    "            search_area = search_area[:middle]\n",
    "            \n",
    "        # If target is greater than the middle value of the search area \n",
    "        elif target > search_area[middle]:\n",
    "            # Make the new search area the second half of the current search area\n",
    "            search_area = search_area[middle:]\n",
    "        \n",
    "        # If the target is equal to the middle value of the search area:\n",
    "        else: \n",
    "            # Print success!\n",
    "            return print('Found it!', str(search_area[middle]))\n",
    "    # If the list area has 0 elements, print that search failed\n",
    "    else:\n",
    "        return print('Not in list!')\n",
    "            \n",
    "# Run function\n",
    "binary_search(sorted_list, 7)"
   ]
  }
 ],
 "metadata": {
  "anaconda-cloud": {},
  "kernelspec": {
   "display_name": "Python [default]",
   "language": "python",
   "name": "python3"
  },
  "language_info": {
   "codemirror_mode": {
    "name": "ipython",
    "version": 3
   },
   "file_extension": ".py",
   "mimetype": "text/x-python",
   "name": "python",
   "nbconvert_exporter": "python",
   "pygments_lexer": "ipython3",
   "version": "3.5.2"
  }
 },
 "nbformat": 4,
 "nbformat_minor": 1
}
