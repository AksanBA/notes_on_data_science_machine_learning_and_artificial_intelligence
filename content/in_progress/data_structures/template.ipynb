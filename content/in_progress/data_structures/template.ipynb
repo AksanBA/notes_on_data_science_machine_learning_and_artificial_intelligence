{
 "cells": [
  {
   "cell_type": "markdown",
   "metadata": {},
   "source": [
    "Title: title  \n",
    "Slug: slug  \n",
    "Summary: Using Python.  \n",
    "Date: 2016-01-30 12:00  \n",
    "Category: Python  \n",
    "Tags: Computer Science  \n",
    "Authors: Chris Albon  \n",
    "    \n",
    "Want to learn more? Check out [Data Structures and Algorithms in Python](http://amzn.to/2kjkqWQ)"
   ]
  },
  {
   "cell_type": "code",
   "execution_count": 54,
   "metadata": {
    "collapsed": true
   },
   "outputs": [],
   "source": [
    "import queue"
   ]
  },
  {
   "cell_type": "code",
   "execution_count": 55,
   "metadata": {
    "collapsed": false
   },
   "outputs": [],
   "source": [
    "class _BinTreeNode:\n",
    "    def __init__(self, data):\n",
    "        self.data = data\n",
    "        self.left = None\n",
    "        self.right = None"
   ]
  },
  {
   "cell_type": "code",
   "execution_count": 73,
   "metadata": {
    "collapsed": true
   },
   "outputs": [],
   "source": [
    "def preorderTrav(subtree):\n",
    "    if subtree is not None:\n",
    "        print(subtree)\n",
    "        preorderTrav(subtree.left)\n",
    "        preordertrave(subtree.right)"
   ]
  },
  {
   "cell_type": "code",
   "execution_count": 64,
   "metadata": {
    "collapsed": true
   },
   "outputs": [],
   "source": [
    "def breathFirstTrav(bintree):\n",
    "    q = queue.Queue()\n",
    "    q.enqueue(bintree)\n",
    "    \n",
    "    while not q.isEmpty():\n",
    "        node = q.dequeue()\n",
    "        print(node.data)\n",
    "        \n",
    "        if node.left is not None:\n",
    "            q.enqueue(node.left)\n",
    "        if node.right is not None:\n",
    "            q.enqueue(node.right)"
   ]
  },
  {
   "cell_type": "code",
   "execution_count": 62,
   "metadata": {
    "collapsed": false
   },
   "outputs": [],
   "source": [
    "bintree"
   ]
  },
  {
   "cell_type": "code",
   "execution_count": 116,
   "metadata": {
    "collapsed": false
   },
   "outputs": [
    {
     "name": "stdout",
     "output_type": "stream",
     "text": [
      "Bob\n",
      "Maud\n",
      "Steven\n",
      "Tony\n"
     ]
    }
   ],
   "source": [
    "class BinaryTree():\n",
    "\n",
    "    def __init__(self,rootid):\n",
    "      self.left = None\n",
    "      self.right = None\n",
    "      self.rootid = rootid\n",
    "\n",
    "    def getLeftChild(self):\n",
    "        return self.left\n",
    "    def getRightChild(self):\n",
    "        return self.right\n",
    "    def setNodeValue(self,value):\n",
    "        self.rootid = value\n",
    "    def getNodeValue(self):\n",
    "        return self.rootid\n",
    "\n",
    "    def insertRight(self,newNode):\n",
    "        if self.right == None:\n",
    "            self.right = BinaryTree(newNode)\n",
    "        else:\n",
    "            tree = BinaryTree(newNode)\n",
    "            tree.right = self.right\n",
    "            self.right = tree\n",
    "        \n",
    "    def insertLeft(self,newNode):\n",
    "        if self.left == None:\n",
    "            self.left = BinaryTree(newNode)\n",
    "        else:\n",
    "            tree = BinaryTree(newNode)\n",
    "            self.left = tree\n",
    "            tree.left = self.left\n",
    "\n",
    "\n",
    "def printTree(tree):\n",
    "        if tree != None:\n",
    "            printTree(tree.getLeftChild())\n",
    "            print(tree.getNodeValue())\n",
    "            printTree(tree.getRightChild())\n",
    "            \n",
    "\n",
    "\n",
    "# test tree\n",
    "\n",
    "def testTree():\n",
    "    myTree = BinaryTree(\"Maud\")\n",
    "    myTree.insertLeft(\"Bob\")\n",
    "    myTree.insertRight(\"Tony\")\n",
    "    myTree.insertRight(\"Steven\")\n",
    "    printTree(myTree)\n",
    "   \n",
    "testTree()"
   ]
  },
  {
   "cell_type": "code",
   "execution_count": null,
   "metadata": {
    "collapsed": true
   },
   "outputs": [],
   "source": []
  },
  {
   "cell_type": "code",
   "execution_count": null,
   "metadata": {
    "collapsed": true
   },
   "outputs": [],
   "source": []
  }
 ],
 "metadata": {
  "anaconda-cloud": {},
  "kernelspec": {
   "display_name": "Python [default]",
   "language": "python",
   "name": "python3"
  },
  "language_info": {
   "codemirror_mode": {
    "name": "ipython",
    "version": 3
   },
   "file_extension": ".py",
   "mimetype": "text/x-python",
   "name": "python",
   "nbconvert_exporter": "python",
   "pygments_lexer": "ipython3",
   "version": "3.5.2"
  }
 },
 "nbformat": 4,
 "nbformat_minor": 1
}
