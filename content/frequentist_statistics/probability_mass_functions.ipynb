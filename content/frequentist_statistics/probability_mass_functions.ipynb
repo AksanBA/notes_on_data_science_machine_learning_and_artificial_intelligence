{
 "cells": [
  {
   "cell_type": "markdown",
   "metadata": {},
   "source": [
    "Title: Probability Mass Functions  \n",
    "Slug: probability_mass_functions  \n",
    "Summary: Probability Mass Functions in Python.    \n",
    "Date: 2016-02-08 12:00  \n",
    "Category: Frequentist Statistics  \n",
    "Tags: Basics\n",
    "Authors: Chris Albon  "
   ]
  },
  {
   "cell_type": "markdown",
   "metadata": {},
   "source": [
    "## Create Data"
   ]
  },
  {
   "cell_type": "code",
   "execution_count": 1,
   "metadata": {
    "collapsed": true
   },
   "outputs": [],
   "source": [
    "data = [3,2,3,4,2,3,5,2,2,33,3,5,2,2,5,6,62,2,2,3,6,6,2,23,3,2,3]"
   ]
  },
  {
   "cell_type": "markdown",
   "metadata": {},
   "source": [
    "## Create A Count Of Values"
   ]
  },
  {
   "cell_type": "code",
   "execution_count": 2,
   "metadata": {
    "collapsed": false
   },
   "outputs": [],
   "source": [
    "# Create a dictionary to store the counts\n",
    "count = {}\n",
    "\n",
    "# For each value in the data\n",
    "for observation in data:\n",
    "    \n",
    "    # An a key, value pair, with the observation being the key\n",
    "    # and the value being +1\n",
    "    count[observation] = count.get(observation, 0) + 1"
   ]
  },
  {
   "cell_type": "markdown",
   "metadata": {},
   "source": [
    "## Normalize The Count To Between 0 and 1"
   ]
  },
  {
   "cell_type": "code",
   "execution_count": 3,
   "metadata": {
    "collapsed": false
   },
   "outputs": [],
   "source": [
    "# Calculate the number of observations\n",
    "n = len(data)\n",
    "\n",
    "# Create a dictionary\n",
    "probability_mass_function = {}\n",
    "\n",
    "# For each unique value,\n",
    "for unique_value, count in count.items():\n",
    "    # Normalize the count by dividing by the length of data, add to the PMC dictionary\n",
    "    probability_mass_function[unique_value] = count / n"
   ]
  },
  {
   "cell_type": "code",
   "execution_count": 4,
   "metadata": {
    "collapsed": false
   },
   "outputs": [
    {
     "data": {
      "text/plain": [
       "{2: 0.37037037037037035,\n",
       " 3: 0.25925925925925924,\n",
       " 4: 0.037037037037037035,\n",
       " 5: 0.1111111111111111,\n",
       " 6: 0.1111111111111111,\n",
       " 23: 0.037037037037037035,\n",
       " 33: 0.037037037037037035,\n",
       " 62: 0.037037037037037035}"
      ]
     },
     "execution_count": 4,
     "metadata": {},
     "output_type": "execute_result"
    }
   ],
   "source": [
    "probability_mass_function"
   ]
  }
 ],
 "metadata": {
  "kernelspec": {
   "display_name": "Python [default]",
   "language": "python",
   "name": "python3"
  },
  "language_info": {
   "codemirror_mode": {
    "name": "ipython",
    "version": 3
   },
   "file_extension": ".py",
   "mimetype": "text/x-python",
   "name": "python",
   "nbconvert_exporter": "python",
   "pygments_lexer": "ipython3",
   "version": "3.5.2"
  }
 },
 "nbformat": 4,
 "nbformat_minor": 2
}
